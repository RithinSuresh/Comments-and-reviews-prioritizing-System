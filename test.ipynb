{
 "cells": [
  {
   "cell_type": "code",
   "execution_count": 1,
   "metadata": {},
   "outputs": [
    {
     "name": "stderr",
     "output_type": "stream",
     "text": [
      "\n",
      "KeyboardInterrupt\n",
      "\n"
     ]
    }
   ],
   "source": [
    "from plotly.io import to_image\n",
    "import pandas as pd\n",
    "import numpy as np\n",
    "\n",
    "# Seed for reproducibility\n",
    "np.random.seed(42)\n",
    "\n",
    "# Create a DataFrame with random data\n",
    "data = pd.DataFrame({\n",
    "    'Analysis': np.random.choice(['Positive', 'Negative', 'Neutral'], size=100),\n",
    "    'Likes': np.random.randint(1, 1000, size=100),\n",
    "    'Reply Count': np.random.randint(0, 300, size=100),\n",
    "    'Date': pd.date_range(start='2021-01-01', periods=100, freq='D')\n",
    "})\n",
    "\n",
    "# Display the first few rows of the DataFrame to verify its content\n",
    "print(data.head())\n",
    "sentiment_distribution = pd.Series(data['Analysis']).value_counts()\n",
    "print(\"1\")\n",
    "fig1 = px.pie(values=sentiment_distribution, names=sentiment_distribution.index, title='Sentiment Distribution')\n",
    "\n",
    "# Test if Kaleido works directly\n",
    "image_bytes = to_image(fig1, format='png')\n",
    "with open('./test_fig1.png', 'wb') as f:\n",
    "    f.write(image_bytes)\n"
   ]
  },
  {
   "cell_type": "code",
   "execution_count": null,
   "metadata": {},
   "outputs": [],
   "source": [
    "import plotly.express as px\n",
    "import plotly.io as pio\n",
    "from plotly.io import to_image"
   ]
  }
 ],
 "metadata": {
  "kernelspec": {
   "display_name": "venv",
   "language": "python",
   "name": "python3"
  },
  "language_info": {
   "codemirror_mode": {
    "name": "ipython",
    "version": 3
   },
   "file_extension": ".py",
   "mimetype": "text/x-python",
   "name": "python",
   "nbconvert_exporter": "python",
   "pygments_lexer": "ipython3",
   "version": "3.9.13"
  }
 },
 "nbformat": 4,
 "nbformat_minor": 2
}
